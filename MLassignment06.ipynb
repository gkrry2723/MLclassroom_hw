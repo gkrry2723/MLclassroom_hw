{
  "nbformat": 4,
  "nbformat_minor": 0,
  "metadata": {
    "colab": {
      "name": "MLassignment06.ipynb",
      "provenance": [],
      "collapsed_sections": [],
      "authorship_tag": "ABX9TyNxcs7Js4xUlB0tjdkgXyuR",
      "include_colab_link": true
    },
    "kernelspec": {
      "name": "python3",
      "display_name": "Python 3"
    }
  },
  "cells": [
    {
      "cell_type": "markdown",
      "metadata": {
        "id": "view-in-github",
        "colab_type": "text"
      },
      "source": [
        "<a href=\"https://colab.research.google.com/github/gkrry2723/MLclassroom_hw/blob/main/MLassignment06.ipynb\" target=\"_parent\"><img src=\"https://colab.research.google.com/assets/colab-badge.svg\" alt=\"Open In Colab\"/></a>"
      ]
    },
    {
      "cell_type": "markdown",
      "metadata": {
        "id": "frwgAYF58DZJ"
      },
      "source": [
        "**Machine Learning assignment06 **\n",
        "**20184754 김현주 **\n",
        "- linear하지 않은 classification 구하기!\n",
        "(Logistic regression for a binary classification with a non-linear classification boundary)\n"
      ]
    },
    {
      "cell_type": "code",
      "metadata": {
        "id": "8rm9pt4m7_bD",
        "colab": {
          "base_uri": "https://localhost:8080/",
          "height": 125
        },
        "outputId": "d6de5058-369d-400d-c493-221ed93ed49f"
      },
      "source": [
        "from google.colab import drive\n",
        "drive.mount(\"/gdrive\")"
      ],
      "execution_count": null,
      "outputs": [
        {
          "output_type": "stream",
          "text": [
            "Go to this URL in a browser: https://accounts.google.com/o/oauth2/auth?client_id=947318989803-6bn6qk8qdgf4n4g3pfee6491hc0brc4i.apps.googleusercontent.com&redirect_uri=urn%3aietf%3awg%3aoauth%3a2.0%3aoob&response_type=code&scope=email%20https%3a%2f%2fwww.googleapis.com%2fauth%2fdocs.test%20https%3a%2f%2fwww.googleapis.com%2fauth%2fdrive%20https%3a%2f%2fwww.googleapis.com%2fauth%2fdrive.photos.readonly%20https%3a%2f%2fwww.googleapis.com%2fauth%2fpeopleapi.readonly\n",
            "\n",
            "Enter your authorization code:\n",
            "··········\n",
            "Mounted at /gdrive\n"
          ],
          "name": "stdout"
        }
      ]
    },
    {
      "cell_type": "code",
      "metadata": {
        "id": "PZhBIE8t9F-l",
        "colab": {
          "base_uri": "https://localhost:8080/",
          "height": 483
        },
        "outputId": "79a84684-616a-4d20-bfb2-043147f73494"
      },
      "source": [
        "import numpy as np\n",
        "import matplotlib.pyplot as plt\n",
        "\n",
        "data    = np.genfromtxt(\"/gdrive/My Drive/ML_assignment/data-nonlinear.txt\", delimiter=',')\n",
        "\n",
        "m=len(data)\n",
        "\n",
        "x  = data[:, 0]\n",
        "y  = data[:, 1]\n",
        "label   = data[:, 2]\n",
        "\n",
        "pointX0 = x[label == 0]\n",
        "pointY0 = y[label == 0]\n",
        "\n",
        "pointX1 = x[label == 1]\n",
        "pointY1 = y[label == 1]\n",
        "\n",
        "plt.figure(figsize=(8, 8))\n",
        "plt.scatter(pointX0, pointY0, c='b')\n",
        "plt.scatter(pointX1, pointY1, c='r')\n",
        "#plt.tight_layout()\n",
        "#plt.gca().set_aspect('equal', adjustable='box')\n",
        "plt.show()\n"
      ],
      "execution_count": null,
      "outputs": [
        {
          "output_type": "display_data",
          "data": {
            "image/png": "[encoded data removed]",
            "text/plain": [
              "<Figure size 576x576 with 1 Axes>"
            ]
          },
          "metadata": {
            "tags": [],
            "needs_background": "light"
          }
        }
      ]
    },
    {
      "cell_type": "code",
      "metadata": {
        "id": "EQi4QXER_Exu",
        "colab": {
          "base_uri": "https://localhost:8080/",
          "height": 259
        },
        "outputId": "8b760b6f-e27f-4a78-b966-23b1bc85bc57"
      },
      "source": [
        "import math\n",
        "\n",
        "#그래프에서 잘보이도록 + converge 까지 도달하는 시간을 고려해서 초기값 initialize\n",
        "theta0=2\n",
        "theta1=1\n",
        "theta2=2\n",
        "theta3=-4\n",
        "theta4=-5\n",
        "theta5=-6\n",
        "theta6=0\n",
        "theta7=0\n",
        "theta8=0\n",
        "theta9=0\n",
        "theta10=0\n",
        "theta11=0\n",
        "theta12=-3\n",
        "theta13=-4\n",
        "\n",
        "J=[]\n",
        "step=[]\n",
        "accuracy=[]\n",
        "\n",
        "theta=[theta0,theta1,theta2,theta3,theta4,theta5,theta6,theta7,theta8,theta9,theta10,theta11,theta12,theta13]\n",
        "\n",
        "p=0.5\n",
        "steps=0\n",
        "\n",
        "\n",
        "for i in range(0,1000):\n",
        "  steps=steps+1\n",
        "  step.append(steps)\n",
        "\n",
        "  sum=0\n",
        "  s=0\n",
        "  s1=0\n",
        "  s2=0\n",
        "  s3=0\n",
        "  s4=0\n",
        "  s5=0\n",
        "  s6=0\n",
        "  s7=0\n",
        "  s8=0\n",
        "  s9=0\n",
        "  s10=0\n",
        "  s11=0\n",
        "  s12=0\n",
        "  s13=0\n",
        "  \n",
        "\n",
        "  for i in range(0,m):\n",
        "\n",
        "    g=theta[0] + theta[1]*x[i] + theta[2]*y[i] + theta[3]*x[i]*y[i] + theta[4]*(x[i]**2) + theta[5]*(y[i]**2) + theta[6]*(x[i]**2)*(y[i]**2) + theta[7]*(x[i])*(y[i]**2) + theta[8]*(x[i]**2)*(y[i]) + theta[9]*(x[i]**3) + theta[10]*(y[i]**2) + theta[11]*(x[i]**4)*(y[i]**4) + theta[12]*(x[i]**4) + theta[13]*(y[i]**4)\n",
        "    h=1/(1+math.exp(-g))\n",
        "  \n",
        "    s=(h-label[i]) + s\n",
        "    s1=(h-label[i])*x[i] +s1\n",
        "    s2=(h-label[i])*y[i] +s2\n",
        "    s3=(h-label[i])*(x[i])*(y[i]) +s3\n",
        "    s4=(h-label[i])*(x[i]**2) +s4\n",
        "    s5=(h-label[i])*(y[i]**2) +s5\n",
        "    s6=(h-label[i])*(x[i]**2)*(y[i]**2)  +s6\n",
        "    s7=(h-label[i])*(x[i])*(y[i]**2) +s7\n",
        "    s8=(h-label[i])*(x[i]**2)*(y[i]) +s8\n",
        "    s9=(h-label[i])*(x[i]**3) +s9\n",
        "    s10=(h-label[i])*(y[i]**2) +s10\n",
        "    s11=(h-label[i])*(x[i]**4)*(y[i]**4) +s11\n",
        "    s12=(h-label[i])*(x[i]**4)+s12\n",
        "    s13=(h-label[i])*(y[i]**4)+s13\n",
        "\n",
        "\n",
        "    sum=label[i]*math.log(h)+(1-label[i])*math.log(1-h) + sum\n",
        "  \n",
        "  d0=s/m\n",
        "  d1=s1/m\n",
        "  d2=s2/m\n",
        "  d3=s3/m\n",
        "  d4=s4/m\n",
        "  d5=s5/m\n",
        "  d6=s6/m\n",
        "  d7=s7/m\n",
        "  d8=s8/m\n",
        "  d9=s9/m\n",
        "  d10=s10/m\n",
        "  d11=s11/m\n",
        "  d12=s12/m\n",
        "  d13=s13/m\n",
        "\n",
        "  theta0= theta0-p*d0\n",
        "  theta1= theta1-p*d1\n",
        "  theta2= theta2-p*d2\n",
        "  theta3= theta3-p*d3\n",
        "  theta4= theta4-p*d4\n",
        "  theta5= theta5-p*d5\n",
        "  theta6= theta6-p*d6\n",
        "  theta7= theta7-p*d7\n",
        "  theta8= theta8-p*d8\n",
        "  theta9= theta9-p*d9\n",
        "  theta10= theta10-p*d10\n",
        "  theta11= theta11-p*d11\n",
        "  theta12= theta12-p*d12\n",
        "  theta13= theta13-p*d13\n",
        "\n",
        "  theta=[theta0,theta1,theta2,theta3,theta4,theta5,theta6,theta7,theta8,theta9,theta10,theta11,theta12,theta13]\n",
        "\n",
        "  Js= -sum/len(data)\n",
        "  J.append(Js)\n",
        "\n",
        "  plt.scatter(steps,theta0,c=\"red\",s=0.3)\n",
        "  plt.scatter(steps,theta1,c=\"green\",s=0.3)\n",
        "  plt.scatter(steps,theta2,c=\"blue\",s=0.3)\n",
        "  plt.scatter(steps,theta3,c=\"yellow\",s=0.3)\n",
        "  plt.scatter(steps,theta4,c=\"purple\",s=0.3)\n",
        "  plt.scatter(steps,theta5,c=\"orange\",s=0.3)\n",
        "  plt.scatter(steps,theta6,c=\"orange\",s=0.3)\n",
        "  plt.scatter(steps,theta7,c=\"orange\",s=0.3)\n",
        "  plt.scatter(steps,theta8,c=\"green\",s=0.3)\n",
        "  plt.scatter(steps,theta9,c=\"blue\",s=0.3)\n",
        "  plt.scatter(steps,theta10,c=\"yellow\",s=0.3)\n",
        "  plt.scatter(steps,theta11,c=\"purple\",s=0.3)\n",
        "  plt.scatter(steps,theta12,c=\"orange\",s=0.3)\n",
        "  plt.scatter(steps,theta13,c=\"orange\",s=0.3)\n",
        "\n",
        "  plt.scatter(steps,Js,c=\"black\",s=0.3)\n",
        "\n",
        "  count =0\n",
        "  for i in range(0,m):\n",
        "\n",
        "    ad= theta[0] + theta[1]*x[i] + theta[2]*y[i] + theta[3]*x[i]*y[i] + theta[4]*(x[i]**2) + theta[5]*(y[i]**2) + theta[6]*(x[i]**2)*(y[i]**2) + theta[7]*(x[i])*(y[i]**2) + theta[8]*(x[i]**2)*(y[i]) + theta[9]*(x[i]**3) + theta[10]*(y[i]**2) + theta[11]*(x[i]**4)*(y[i]**4) + theta[12]*(x[i]**4) + theta[13]*(y[i]**4)\n",
        "    if ad>=0 and label[i]==1:\n",
        "      count=count+1\n",
        "    elif(ad<0) and (label[i]==0):\n",
        "      count=count+1\n",
        "\n",
        "  accuracys=count/m*100\n",
        "  accuracy.append(accuracys)\n",
        "\n",
        "print(theta)"
      ],
      "execution_count": null,
      "outputs": [
        {
          "output_type": "error",
          "ename": "NameError",
          "evalue": "ignored",
          "traceback": [
            "\u001b[0;31m---------------------------------------------------------------------------\u001b[0m",
            "\u001b[0;31mNameError\u001b[0m                                 Traceback (most recent call last)",
            "\u001b[0;32m<ipython-input-1-b9d7e302d969>\u001b[0m in \u001b[0;36m<module>\u001b[0;34m()\u001b[0m\n\u001b[1;32m     48\u001b[0m \u001b[0;34m\u001b[0m\u001b[0m\n\u001b[1;32m     49\u001b[0m \u001b[0;34m\u001b[0m\u001b[0m\n\u001b[0;32m---> 50\u001b[0;31m   \u001b[0;32mfor\u001b[0m \u001b[0mi\u001b[0m \u001b[0;32min\u001b[0m \u001b[0mrange\u001b[0m\u001b[0;34m(\u001b[0m\u001b[0;36m0\u001b[0m\u001b[0;34m,\u001b[0m\u001b[0mm\u001b[0m\u001b[0;34m)\u001b[0m\u001b[0;34m:\u001b[0m\u001b[0;34m\u001b[0m\u001b[0;34m\u001b[0m\u001b[0m\n\u001b[0m\u001b[1;32m     51\u001b[0m \u001b[0;34m\u001b[0m\u001b[0m\n\u001b[1;32m     52\u001b[0m     \u001b[0mg\u001b[0m\u001b[0;34m=\u001b[0m\u001b[0mtheta\u001b[0m\u001b[0;34m[\u001b[0m\u001b[0;36m0\u001b[0m\u001b[0;34m]\u001b[0m \u001b[0;34m+\u001b[0m \u001b[0mtheta\u001b[0m\u001b[0;34m[\u001b[0m\u001b[0;36m1\u001b[0m\u001b[0;34m]\u001b[0m\u001b[0;34m*\u001b[0m\u001b[0mx\u001b[0m\u001b[0;34m[\u001b[0m\u001b[0mi\u001b[0m\u001b[0;34m]\u001b[0m \u001b[0;34m+\u001b[0m \u001b[0mtheta\u001b[0m\u001b[0;34m[\u001b[0m\u001b[0;36m2\u001b[0m\u001b[0;34m]\u001b[0m\u001b[0;34m*\u001b[0m\u001b[0my\u001b[0m\u001b[0;34m[\u001b[0m\u001b[0mi\u001b[0m\u001b[0;34m]\u001b[0m \u001b[0;34m+\u001b[0m \u001b[0mtheta\u001b[0m\u001b[0;34m[\u001b[0m\u001b[0;36m3\u001b[0m\u001b[0;34m]\u001b[0m\u001b[0;34m*\u001b[0m\u001b[0mx\u001b[0m\u001b[0;34m[\u001b[0m\u001b[0mi\u001b[0m\u001b[0;34m]\u001b[0m\u001b[0;34m*\u001b[0m\u001b[0my\u001b[0m\u001b[0;34m[\u001b[0m\u001b[0mi\u001b[0m\u001b[0;34m]\u001b[0m \u001b[0;34m+\u001b[0m \u001b[0mtheta\u001b[0m\u001b[0;34m[\u001b[0m\u001b[0;36m4\u001b[0m\u001b[0;34m]\u001b[0m\u001b[0;34m*\u001b[0m\u001b[0;34m(\u001b[0m\u001b[0mx\u001b[0m\u001b[0;34m[\u001b[0m\u001b[0mi\u001b[0m\u001b[0;34m]\u001b[0m\u001b[0;34m**\u001b[0m\u001b[0;36m2\u001b[0m\u001b[0;34m)\u001b[0m \u001b[0;34m+\u001b[0m \u001b[0mtheta\u001b[0m\u001b[0;34m[\u001b[0m\u001b[0;36m5\u001b[0m\u001b[0;34m]\u001b[0m\u001b[0;34m*\u001b[0m\u001b[0;34m(\u001b[0m\u001b[0my\u001b[0m\u001b[0;34m[\u001b[0m\u001b[0mi\u001b[0m\u001b[0;34m]\u001b[0m\u001b[0;34m**\u001b[0m\u001b[0;36m2\u001b[0m\u001b[0;34m)\u001b[0m \u001b[0;34m+\u001b[0m \u001b[0mtheta\u001b[0m\u001b[0;34m[\u001b[0m\u001b[0;36m6\u001b[0m\u001b[0;34m]\u001b[0m\u001b[0;34m*\u001b[0m\u001b[0;34m(\u001b[0m\u001b[0mx\u001b[0m\u001b[0;34m[\u001b[0m\u001b[0mi\u001b[0m\u001b[0;34m]\u001b[0m\u001b[0;34m**\u001b[0m\u001b[0;36m2\u001b[0m\u001b[0;34m)\u001b[0m\u001b[0;34m*\u001b[0m\u001b[0;34m(\u001b[0m\u001b[0my\u001b[0m\u001b[0;34m[\u001b[0m\u001b[0mi\u001b[0m\u001b[0;34m]\u001b[0m\u001b[0;34m**\u001b[0m\u001b[0;36m2\u001b[0m\u001b[0;34m)\u001b[0m \u001b[0;34m+\u001b[0m \u001b[0mtheta\u001b[0m\u001b[0;34m[\u001b[0m\u001b[0;36m7\u001b[0m\u001b[0;34m]\u001b[0m\u001b[0;34m*\u001b[0m\u001b[0;34m(\u001b[0m\u001b[0mx\u001b[0m\u001b[0;34m[\u001b[0m\u001b[0mi\u001b[0m\u001b[0;34m]\u001b[0m\u001b[0;34m)\u001b[0m\u001b[0;34m*\u001b[0m\u001b[0;34m(\u001b[0m\u001b[0my\u001b[0m\u001b[0;34m[\u001b[0m\u001b[0mi\u001b[0m\u001b[0;34m]\u001b[0m\u001b[0;34m**\u001b[0m\u001b[0;36m2\u001b[0m\u001b[0;34m)\u001b[0m \u001b[0;34m+\u001b[0m \u001b[0mtheta\u001b[0m\u001b[0;34m[\u001b[0m\u001b[0;36m8\u001b[0m\u001b[0;34m]\u001b[0m\u001b[0;34m*\u001b[0m\u001b[0;34m(\u001b[0m\u001b[0mx\u001b[0m\u001b[0;34m[\u001b[0m\u001b[0mi\u001b[0m\u001b[0;34m]\u001b[0m\u001b[0;34m**\u001b[0m\u001b[0;36m2\u001b[0m...\n",
            "\u001b[0;31mNameError\u001b[0m: name 'm' is not defined"
          ]
        }
      ]
    },
    {
      "cell_type": "code",
      "metadata": {
        "id": "azgEJhwqQTv9",
        "colab": {
          "base_uri": "https://localhost:8080/",
          "height": 282
        },
        "outputId": "b7a1dd72-cf57-4a7f-eef0-1a4666cdcbcf"
      },
      "source": [
        "plt.scatter(pointX0, pointY0, c='b')\n",
        "plt.scatter(pointX1, pointY1, c='r')\n",
        "\n",
        "\n",
        "count=0\n",
        "\n",
        "xx = np.linspace(-1.0, 1.0, 100)\n",
        "yy = np.linspace(-1.0, 1.0, 100)\n",
        "X, Y = np.meshgrid(xx,yy)\n",
        "F = theta[0] + theta[1]*X + theta[2]*Y + theta[3]*X*Y + theta[4]*(X**2) + theta[5]*(Y**2) + theta[6]*(X**2)*(Y**2) + theta[7]*(X)*(Y**2) + theta[8]*(X**2)*(Y) + theta[9]*(X**3) + theta[10]*(Y**2) + theta[11]*(X**4)*(Y**4) + theta[12]*(X**4) + theta[13]*(Y**4)\n",
        "plt.show()\n",
        "\n",
        "\n",
        "\n",
        "for i in range(0,m):\n",
        "\n",
        "  ad= theta[0] + theta[1]*x[i] + theta[2]*y[i] + theta[3]*x[i]*y[i] + theta[4]*(x[i]**2) + theta[5]*(y[i]**2) + theta[6]*(x[i]**2)*(y[i]**2) + theta[7]*(x[i])*(y[i]**2) + theta[8]*(x[i]**2)*(y[i]) + theta[9]*(x[i]**3) + theta[10]*(y[i]**2) + theta[11]*(x[i]**4)*(y[i]**4) + theta[12]*(x[i]**4) + theta[13]*(y[i]**4)\n",
        "  if ad>=0 and label[i]==1:\n",
        "    count=count+1\n",
        "  elif(ad<0) and (label[i]==0):\n",
        "    count=count+1\n",
        "\n",
        "accuracy=count/m*100\n",
        "print(accuracy)\n"
      ],
      "execution_count": null,
      "outputs": [
        {
          "output_type": "display_data",
          "data": {
            "image/png": "[encoded data removed]",
            "text/plain": [
              "<Figure size 432x288 with 1 Axes>"
            ]
          },
          "metadata": {
            "tags": [],
            "needs_background": "light"
          }
        },
        {
          "output_type": "stream",
          "text": [
            "85.59322033898306\n"
          ],
          "name": "stdout"
        }
      ]
    },
    {
      "cell_type": "markdown",
      "metadata": {
        "id": "ay4sinXAt8qC"
      },
      "source": [
        "**<답 시작>**\n",
        "1. Plot the training data"
      ]
    },
    {
      "cell_type": "code",
      "metadata": {
        "id": "3m9O_VpouJ5X",
        "colab": {
          "base_uri": "https://localhost:8080/",
          "height": 483
        },
        "outputId": "128e88d7-8d60-4aca-fd4b-2b5c44600ec8"
      },
      "source": [
        "plt.figure(figsize=(8, 8))\n",
        "plt.scatter(pointX0, pointY0, c='b')\n",
        "plt.scatter(pointX1, pointY1, c='r')\n",
        "plt.show()"
      ],
      "execution_count": null,
      "outputs": [
        {
          "output_type": "display_data",
          "data": {
            "image/png": "[encoded data removed]",
            "text/plain": [
              "<Figure size 576x576 with 1 Axes>"
            ]
          },
          "metadata": {
            "tags": [],
            "needs_background": "light"
          }
        }
      ]
    },
    {
      "cell_type": "markdown",
      "metadata": {
        "id": "paO5iZYyuNn_"
      },
      "source": [
        "2. Write down the high dimensional function $g(x,y;θ)$\n",
        "\n",
        "\n",
        "$g(x,y;θ) = θ_0 + θ_1*x + θ_2*y + θ_3*x*y + θ_4*x^2 + θ_5*y^2 + θ_6*x^2*y^2 + θ_7*x*y^2 + θ_8*x^2*y + θ_9*x^3 +θ_{10}*y^3 + θ_{11}*x^4*y^4 + θ_{12}*x^4 + θ_{13}*y^4$\n"
      ]
    },
    {
      "cell_type": "markdown",
      "metadata": {
        "id": "1rS38jlBuQP6"
      },
      "source": [
        "3. Plot the training error."
      ]
    },
    {
      "cell_type": "code",
      "metadata": {
        "id": "-5IWIsKOuYUE",
        "colab": {
          "base_uri": "https://localhost:8080/",
          "height": 282
        },
        "outputId": "248c07cf-6cf8-4804-c8e4-3d56be9ad6b5"
      },
      "source": [
        "plt.scatter(step,J,c=\"blue\",s=0.3)"
      ],
      "execution_count": null,
      "outputs": [
        {
          "output_type": "execute_result",
          "data": {
            "text/plain": [
              "<matplotlib.collections.PathCollection at 0x7f548870aa58>"
            ]
          },
          "metadata": {
            "tags": []
          },
          "execution_count": 27
        },
        {
          "output_type": "display_data",
          "data": {
            "image/png": "[encoded data removed]",
            "text/plain": [
              "<Figure size 432x288 with 1 Axes>"
            ]
          },
          "metadata": {
            "tags": [],
            "needs_background": "light"
          }
        }
      ]
    },
    {
      "cell_type": "markdown",
      "metadata": {
        "id": "6OJd_bHsu_V0"
      },
      "source": [
        "4. Plot the training accuracy"
      ]
    },
    {
      "cell_type": "code",
      "metadata": {
        "id": "S_RqDozxvBrs",
        "colab": {
          "base_uri": "https://localhost:8080/",
          "height": 285
        },
        "outputId": "80b08635-6ce8-4065-d727-a30eb856c2bf"
      },
      "source": [
        "plt.scatter(step,accuracy,c='red',s=0.3)"
      ],
      "execution_count": null,
      "outputs": [
        {
          "output_type": "execute_result",
          "data": {
            "text/plain": [
              "<matplotlib.collections.PathCollection at 0x7f548b429e48>"
            ]
          },
          "metadata": {
            "tags": []
          },
          "execution_count": 28
        },
        {
          "output_type": "display_data",
          "data": {
            "image/png": "[encoded data removed]",
            "text/plain": [
              "<Figure size 432x288 with 1 Axes>"
            ]
          },
          "metadata": {
            "tags": [],
            "needs_background": "light"
          }
        }
      ]
    },
    {
      "cell_type": "markdown",
      "metadata": {
        "id": "6bBrOw_AvJGI"
      },
      "source": [
        "5. Write down the final training accuracy\n",
        ": 85.59322033898306%"
      ]
    },
    {
      "cell_type": "markdown",
      "metadata": {
        "id": "FtwYOGQqvTkU"
      },
      "source": [
        "6. Plot the optimal classifier superimposed on the training data"
      ]
    },
    {
      "cell_type": "code",
      "metadata": {
        "id": "k_-cY4ySvXrQ",
        "colab": {
          "base_uri": "https://localhost:8080/",
          "height": 265
        },
        "outputId": "f58a206d-8a14-41ac-fdcf-5dfc75a51a1c"
      },
      "source": [
        "plt.scatter(pointX0, pointY0, c='b')\n",
        "plt.scatter(pointX1, pointY1, c='r')\n",
        "\n",
        "\n",
        "count=0\n",
        "\n",
        "xx = np.linspace(-1.0, 1.0, 100)\n",
        "yy = np.linspace(-1.0, 1.0, 100)\n",
        "X, Y = np.meshgrid(xx,yy)\n",
        "F = theta[0] + theta[1]*X + theta[2]*Y + theta[3]*X*Y + theta[4]*(X**2) + theta[5]*(Y**2) + theta[6]*(X**2)*(Y**2) + theta[7]*(X)*(Y**2) + theta[8]*(X**2)*(Y) + theta[9]*(X**3) + theta[10]*(Y**2) + theta[11]*(X**4)*(Y**4) + theta[12]*(X**4) + theta[13]*(Y**4)\n",
        "plt.contour(X,Y,F,[0],cmap=plt.cm.summer)\n",
        "plt.show()\n"
      ],
      "execution_count": null,
      "outputs": [
        {
          "output_type": "display_data",
          "data": {
            "image/png": "[encoded data removed]",
            "text/plain": [
              "<Figure size 432x288 with 1 Axes>"
            ]
          },
          "metadata": {
            "tags": [],
            "needs_background": "light"
          }
        }
      ]
    }
  ]
}