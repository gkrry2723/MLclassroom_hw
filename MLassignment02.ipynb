{
  "nbformat": 4,
  "nbformat_minor": 0,
  "metadata": {
    "colab": {
      "name": "MLassignment02.ipynb",
      "provenance": [],
      "authorship_tag": "ABX9TyNLD9AQyvRQ0TiWvucOrYpa",
      "include_colab_link": true
    },
    "kernelspec": {
      "name": "python3",
      "display_name": "Python 3"
    }
  },
  "cells": [
    {
      "cell_type": "markdown",
      "metadata": {
        "id": "view-in-github",
        "colab_type": "text"
      },
      "source": [
        "<a href=\"https://colab.research.google.com/github/gkrry2723/MLclassroom_hw/blob/main/MLassignment02.ipynb\" target=\"_parent\"><img src=\"https://colab.research.google.com/assets/colab-badge.svg\" alt=\"Open In Colab\"/></a>"
      ]
    },
    {
      "cell_type": "markdown",
      "metadata": {
        "id": "C2vQTvJeTRT_"
      },
      "source": [
        "머신러닝 수업 과제 02  // 20184754 김현주\n",
        "Linear Regression, Cost function\n",
        "1. data\n",
        "2. linear model\n",
        "3. objective function\n",
        "4. gradient descendent"
      ]
    },
    {
      "cell_type": "markdown",
      "metadata": {
        "id": "k8-BbrQoT_ud"
      },
      "source": [
        "** 1. input data**\n",
        "- 임의의 리니어 함수 하나 정하기-> 파란색\n",
        "- x의 범위 정해야함(-100~100)\n",
        "- 포인트 검정색으로 찍기\n",
        "\n",
        "y = 1*x+1 로 임의의 그래프를 정해보았다.\n"
      ]
    },
    {
      "cell_type": "code",
      "metadata": {
        "id": "GkgPpR3KSxJP",
        "colab": {
          "base_uri": "https://localhost:8080/",
          "height": 265
        },
        "outputId": "107593dd-012a-45a1-88fa-a2ea2f93ee4e"
      },
      "source": [
        "import matplotlib.pyplot as plt\n",
        "import random\n",
        "\n",
        "#y=1*x+1로 직선 그래프 그리기\n",
        "#x의 범위는 -100부터 100\n",
        "\n",
        "x= range(-100,100)\n",
        "y= [v+1 for v in x]\n",
        "plt.plot(x,y)\n",
        "\n",
        "#해당 직선 그래프를 기준으로 임의의 데이터 점 찍기\n",
        "\n",
        "for i in range(0,100):\n",
        "  xp= random.uniform(-100,100)\n",
        "  yp=xp+1+ random.gauss(0,10)\n",
        "  plt.scatter(x,y2, c=\"black\", s=1)\n"
      ],
      "execution_count": null,
      "outputs": [
        {
          "output_type": "display_data",
          "data": {
            "image/png": "[encoded data removed]",
            "text/plain": [
              "<Figure size 432x288 with 1 Axes>"
            ]
          },
          "metadata": {
            "tags": []
          }
        }
      ]
    },
    {
      "cell_type": "markdown",
      "metadata": {
        "id": "jZhcPykyfpFE"
      },
      "source": [
        "**2. Output results**\n",
        "- the set of points that have random perturbations with respect to the straight line (in black color)\n",
        "- a straight line that is the graph of a solution obtained by linear regression (in red color)\n",
        "\n",
        "- 얻게된 h함수 그리기(빨간색)"
      ]
    },
    {
      "cell_type": "code",
      "metadata": {
        "id": "sl0wQv2UfoPz",
        "colab": {
          "base_uri": "https://localhost:8080/",
          "height": 300
        },
        "outputId": "0cff3777-09d0-4e14-9a84-39e5346b6796"
      },
      "source": [
        "import matplotlib.pyplot as plt\n",
        "import random\n",
        "\n",
        "#1번 과정에서의 랜덤 포인트를 생성하기\n",
        "#data라는 중첩 list에 x좌표 y좌표 순으로 저장해서 출력\n",
        "\n",
        "data=[]\n",
        "for i in range(0,100):\n",
        "  xp= random.uniform(-100,100)\n",
        "  yp= xp+1+ random.gauss(0,10)\n",
        "  l=[xp,yp]\n",
        "  data.append(l)\n",
        "  plt.scatter(data[i][0],data[i][1], c=\"black\", s=1)\n",
        "  \n",
        "\n",
        "# linear regression 과정을 통해 h함수 구하기(in red)\n",
        "# cost function 이용 \n",
        "# J(a,b)=1/2mΣ(ax+b-y)^2 , i는 1부터 m(100)까지\n",
        "# J를 가장 작게 하는 a,b 구하기\n",
        "\n",
        "L=[]        #세타1,세타0,J함수 값을 차례대로 넣는 중첩 list\n",
        "m=100\n",
        "k=0\n",
        "\n",
        "#a=세타1, b=세타0\n",
        "for a in range(-50,51):\n",
        "  for b in range(-50,51):\n",
        "    T=[]\n",
        "    J=0\n",
        "    for i in range(0,m):\n",
        "      S=a*data[i][0]+b-data[i][1]\n",
        "      J=(S**2)+J\n",
        "    J=J/2*m\n",
        "    T=[a,b,J]\n",
        "    L.append(T)\n",
        "\n",
        "#J를 가장 작게 만드는 a,b찾기\n",
        "\n",
        "smallest=0\n",
        "\n",
        "for i in range(0,10201):\n",
        "  if L[i][2]<L[smallest][2]:\n",
        "    smallest=i\n",
        "\n",
        "#찾은 가장 작은 J를 갖는 a,b로 함수 그리기\n",
        "x=range(-100,100)\n",
        "y=[L[smallest][0]*v+L[smallest][1] for v in x ]\n",
        "plt.plot(x,y,c=\"red\")\n",
        "\n",
        "#결론: linear regression 을 이용한 cost function을 통해 원래의 함수를 찾을 수 있다.\n",
        "\n"
      ],
      "execution_count": null,
      "outputs": [
        {
          "output_type": "stream",
          "text": [
            "10201\n"
          ],
          "name": "stdout"
        },
        {
          "output_type": "execute_result",
          "data": {
            "text/plain": [
              "[<matplotlib.lines.Line2D at 0x7f4172514358>]"
            ]
          },
          "metadata": {
            "tags": []
          },
          "execution_count": 2
        },
        {
          "output_type": "display_data",
          "data": {
            "image/png": "[encoded data removed]",
            "text/plain": [
              "<Figure size 432x288 with 1 Axes>"
            ]
          },
          "metadata": {
            "tags": []
          }
        }
      ]
    },
    {
      "cell_type": "markdown",
      "metadata": {
        "id": "rcjyNrzdCcBS"
      },
      "source": [
        "**4. Plotting the model parameters**\n",
        "- the value of the model parameters θ0 and θ1 at every optimization step (in red (θ0) and blue (θ1​) colors)\n",
        "- the optimization should be performed until convergence\n"
      ]
    },
    {
      "cell_type": "code",
      "metadata": {
        "id": "6SPanFUAEFPt",
        "colab": {
          "base_uri": "https://localhost:8080/",
          "height": 265
        },
        "outputId": "49096c22-aef6-44d9-fa52-5f9cb93d9ef7"
      },
      "source": [
        "#θ^j를 j라고 표현\n",
        "#세타0=a, 세타1=b, α=p \n",
        "#j=j-α*(δ/δj)*J(세타0,세타1)(for j=0 and j=1)\n",
        "#j=0에서 (δ/δj)*J(a,b)=1/m*Σ(a*x[i]+b-y[i])=d0\n",
        "#j=1에서 (δ/δj)*J(a,b)=1/m^Σ(a*x[i]+b-y[i])*x[i]=d1\n",
        "\n",
        "import matplotlib.pyplot as plt\n",
        "import random\n",
        "\n",
        "#1번 과정에서의 랜덤 포인트를 생성하기\n",
        "\n",
        "data=[]\n",
        "for i in range(0,100):\n",
        "  xp= random.uniform(-100,100)\n",
        "  yp=xp+1+ random.gauss(0,10)\n",
        "  l=[xp,yp]\n",
        "  data.append(l)\n",
        "\n",
        "#gradient descent를 통해 value 그리기\n",
        "#p=α, d0=(δ/δj0)*J(세타0,세타1), d1=(δ/δj1)*J(세타0,세타1), s= Σ(a*x[i]+b-y[i])\n",
        "\n",
        "#initialization\n",
        "#a,b가 크면 시간이 너무 오래 소요되서 100으로 함\n",
        "#알파값은 0.0005로 하였고 그이상이면 발산하고 그 이하면 너무 느림\n",
        "\n",
        "a=100             #세타1\n",
        "b=100             #세타0\n",
        "m=100             #i\n",
        "p=0.0005          #알파\n",
        "d0=100            #(δ/δj0)*J(세타0,세타1) 인데 처음 while에서 안 걸리기위해 초기값을 그냥 임의로 100으로 설정\n",
        "d1=100            #(δ/δj1)*J(세타0,세타1) 100인 이유는 위와 동일\n",
        "step=1            #step 수\n",
        "\n",
        "while ((-0.1>d0) or (d0>0.1)) or ((-0.1>d1) or (d1>0.1)):\n",
        "  s0=0\n",
        "  s1=0\n",
        "  \n",
        "  for i in range(0,m):\n",
        "    s=a*data[i][0]+b-data[i][1] \n",
        "\n",
        "    s0=s*data[i][0]+s0\n",
        "    s1=s+s1\n",
        "\n",
        "  d0= s0/m\n",
        "  d1= s1/m\n",
        "\n",
        "  a= a-p*d0\n",
        "  b= b-p*d1\n",
        "\n",
        "  plt.scatter(step,a,c=\"blue\",s=1)\n",
        "  plt.scatter(step,b,c=\"red\",s=1)\n",
        "  step=step+1"
      ],
      "execution_count": null,
      "outputs": [
        {
          "output_type": "display_data",
          "data": {
            "image/png": "[encoded data removed]",
            "text/plain": [
              "<Figure size 432x288 with 1 Axes>"
            ]
          },
          "metadata": {
            "tags": []
          }
        }
      ]
    },
    {
      "cell_type": "markdown",
      "metadata": {
        "id": "7PnnOAk628YW"
      },
      "source": [
        "**3. Plotting the energy values**\n",
        "- the value of the objective function at every optimization step by the gradient descent algorithm (in blue color)\n",
        "- the optimization should be performed until convergence\n",
        "\n",
        "=>\n",
        "\n",
        "- gradient descent algorithm을 통해 나오는 opotimization step을 파란색으로 표현하기->수렴시까지\n",
        "\n"
      ]
    },
    {
      "cell_type": "code",
      "metadata": {
        "id": "mPEhwdVY5iWO",
        "colab": {
          "base_uri": "https://localhost:8080/",
          "height": 276
        },
        "outputId": "c694980c-4468-4b12-9e10-2a39fcc5f5e8"
      },
      "source": [
        "#θ^j를 j라고 표현\n",
        "#세타0=a, 세타1=b, α=p \n",
        "#j=j-α*(δ/δj)*J(세타0,세타1)(for j=0 and j=1)\n",
        "#j=0에서 (δ/δj)*J(a,b)=1/m*Σ(a*x[i]+b-y[i])=d0\n",
        "#j=1에서 (δ/δj)*J(a,b)=1/m^Σ(a*x[i]+b-y[i])*x[i]=d1\n",
        "\n",
        "import matplotlib.pyplot as plt\n",
        "import random\n",
        "\n",
        "#1번 과정에서의 랜덤 포인트를 생성하기\n",
        "\n",
        "data=[]\n",
        "for i in range(0,100):\n",
        "  xp= random.uniform(-100,100)\n",
        "  yp=xp+1+ random.gauss(0,10)\n",
        "  l=[xp,yp]\n",
        "  data.append(l)\n",
        "\n",
        "#gradient descent를 통해 value 그리기\n",
        "#p=α, d0=(δ/δj0)*J(세타0,세타1), d1=(δ/δj1)*J(세타0,세타1), s= Σ(a*x[i]+b-y[i])\n",
        "\n",
        "#initialization 4번과 동일\n",
        "a=1000\n",
        "b=1000\n",
        "m=100\n",
        "p=0.0005\n",
        "d0=100\n",
        "d1=100\n",
        "step=1\n",
        "\n",
        "while ((-0.1>d0) or (d0>0.1)) or ((-0.1>d1) or (d1>0.1)):\n",
        "  s0=0\n",
        "  s1=0\n",
        "  ss=0\n",
        "\n",
        "  for i in range(0,m):\n",
        "    s=a*data[i][0]+b-data[i][1] \n",
        "    s_pow=s**2\n",
        "\n",
        "    s0=s*data[i][0]+s0\n",
        "    s1=s+s1\n",
        "    ss=ss+s_pow\n",
        "\n",
        "  d0= s0/m\n",
        "  d1= s1/m\n",
        "\n",
        "  a= a-p*d0\n",
        "  b= b-p*d1\n",
        "  J=ss/(2*m)\n",
        "\n",
        "  plt.scatter(k,J,c=\"blue\",s=1)\n",
        "  step=step+1"
      ],
      "execution_count": null,
      "outputs": [
        {
          "output_type": "display_data",
          "data": {
            "image/png": "[encoded data removed]",
            "text/plain": [
              "<Figure size 432x288 with 1 Axes>"
            ]
          },
          "metadata": {
            "tags": []
          }
        }
      ]
    }
  ]
}