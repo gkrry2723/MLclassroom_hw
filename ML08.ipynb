{
  "nbformat": 4,
  "nbformat_minor": 0,
  "metadata": {
    "colab": {
      "name": "ML08",
      "provenance": [],
      "collapsed_sections": [],
      "authorship_tag": "ABX9TyNoR32c2IccVPz73Dn6y9fp",
      "include_colab_link": true
    },
    "kernelspec": {
      "name": "python3",
      "display_name": "Python 3"
    }
  },
  "cells": [
    {
      "cell_type": "markdown",
      "metadata": {
        "id": "view-in-github",
        "colab_type": "text"
      },
      "source": [
        "<a href=\"https://colab.research.google.com/github/gkrry2723/MLclassroom_hw/blob/main/ML08.ipynb\" target=\"_parent\"><img src=\"https://colab.research.google.com/assets/colab-badge.svg\" alt=\"Open In Colab\"/></a>"
      ]
    },
    {
      "cell_type": "code",
      "metadata": {
        "id": "pt0Jvw3trq1r",
        "colab": {
          "base_uri": "https://localhost:8080/",
          "height": 34
        },
        "outputId": "5e2323de-545d-4d54-add0-4cb2cec8d4b2"
      },
      "source": [
        "from google.colab import drive\n",
        "drive.mount(\"/gdrive\")\n"
      ],
      "execution_count": null,
      "outputs": [
        {
          "output_type": "stream",
          "text": [
            "Drive already mounted at /gdrive; to attempt to forcibly remount, call drive.mount(\"/gdrive\", force_remount=True).\n"
          ],
          "name": "stdout"
        }
      ]
    },
    {
      "cell_type": "code",
      "metadata": {
        "id": "2ZiYZ8tapmY6",
        "colab": {
          "base_uri": "https://localhost:8080/",
          "height": 227
        },
        "outputId": "203180c4-bda0-47de-c2d6-4b8a4db2506b"
      },
      "source": [
        "import matplotlib.pyplot as plt\n",
        "import numpy as np\n",
        "import math\n",
        "#file 읽기\n",
        "file_data   = \"/gdrive/My Drive/ML_assignment/mnist_test.csv\"\n",
        "handle_file = open(file_data, \"r\")\n",
        "data        = handle_file.readlines()\n",
        "handle_file.close()\n",
        "\n",
        "size_row    = 28    # height of the image\n",
        "size_col    = 28    # width of the image\n",
        "\n",
        "num_image   = len(data)\n",
        "count       = 0     # count for the number of images\n",
        "\n",
        "#\n",
        "# make a matrix each column of which represents an images in a vector form \n",
        "#\n",
        "list_image  = np.empty((size_row * size_col, num_image), dtype=float)\n",
        "list_label  = np.empty(num_image, dtype=int)\n",
        "\n",
        "for line in data:\n",
        "\n",
        "    line_data   = line.split(',')\n",
        "    label       = line_data[0]\n",
        "    im_vector   = np.asfarray(line_data[1:])\n",
        "\n",
        "    list_label[count]       = label\n",
        "    list_image[:, count]    = im_vector    \n",
        "\n",
        "    count += 1\n",
        "\n",
        "#평균내기\n",
        "#1. 같은 label 모으기\n",
        "number=[]\n",
        "one=[]\n",
        "two=[]\n",
        "three=[]\n",
        "four=[]\n",
        "five=[]\n",
        "six=[]\n",
        "seven=[]\n",
        "eight=[]\n",
        "nine=[]\n",
        "zero=[]\n",
        "for i in range(0,count):\n",
        "  if list_label[i]==1:\n",
        "    one.append(i)\n",
        "  elif list_label[i]==2:\n",
        "    two.append(i)\n",
        "  elif list_label[i]==3:\n",
        "    three.append(i)\n",
        "  elif list_label[i]==4:\n",
        "    four.append(i)\n",
        "  elif list_label[i]==5:\n",
        "    five.append(i)\n",
        "  elif list_label[i]==6:\n",
        "    six.append(i)\n",
        "  elif list_label[i]==7:\n",
        "    seven.append(i)\n",
        "  elif list_label[i]==8:\n",
        "    eight.append(i)\n",
        "  elif list_label[i]==9:\n",
        "    nine.append(i)\n",
        "  else:\n",
        "    zero.append(i)\n",
        "number.append(zero)\n",
        "number.append(one)\n",
        "number.append(two)\n",
        "number.append(three)\n",
        "number.append(four)\n",
        "number.append(five)\n",
        "number.append(six)\n",
        "number.append(seven)\n",
        "number.append(eight)\n",
        "number.append(nine)\n",
        "\n",
        "#label끼리 평균내기\n",
        "average=np.empty((size_row * size_col, 10), dtype=float)\n",
        "for a in range(0,10):\n",
        "  for b in range(0,len(number[a])): \n",
        "    for c in range(0,size_row * size_col):\n",
        "      average[c,a]=average[c,a]+(list_image[c,number[a][b]])\n",
        "    for c in range(0,size_row * size_col):\n",
        "      average[c,a]=average[c,a]/len(number[a])  \n",
        "# \n",
        "# plot first 100 images out of 10,000 with their labels\n",
        "# \n",
        "f1 = plt.figure(1)\n",
        "\n",
        "for i in range(0,10):\n",
        "  label       = i\n",
        "  im_vector   = average[:, i]\n",
        "  im_matrix   = im_vector.reshape((size_row, size_col))\n",
        "\n",
        "  plt.subplot(2, 5, i+1)\n",
        "  plt.title(label)\n",
        "  plt.imshow(im_matrix, cmap='Greys', interpolation='None')\n",
        "\n",
        "  frame   = plt.gca()\n",
        "  frame.axes.get_xaxis().set_visible(False)\n",
        "  frame.axes.get_yaxis().set_visible(False)\n",
        "\n",
        "plt.show()\n",
        "\n"
      ],
      "execution_count": null,
      "outputs": [
        {
          "output_type": "display_data",
          "data": {
            "image/png": "[encoded data removed]",
            "text/plain": [
              "<Figure size 432x288 with 10 Axes>"
            ]
          },
          "metadata": {
            "tags": [],
            "needs_background": "light"
          }
        }
      ]
    },
    {
      "cell_type": "code",
      "metadata": {
        "id": "tpD6lghmG6oV",
        "colab": {
          "base_uri": "https://localhost:8080/",
          "height": 193
        },
        "outputId": "b05de930-1fc0-4597-c500-02e715858e43"
      },
      "source": [
        "mu, sigma = 0, 0.1\n",
        "theta=np.random.normal(mu,sigma,size_row * size_col)\n",
        "\n",
        "#z 계산\n",
        "sigmoid=[]\n",
        "average_z=[0,0,0,0,0,0,0,0,0,0]\n",
        "\n",
        "for a in range(0, num_image):\n",
        "  temp=0\n",
        "  for b in range(0, size_row * size_col):\n",
        "    temp = temp + list_image[b,a]*theta[b]\n",
        "  z=1/(1+math.exp(temp))\n",
        "  sigmoid.append(z)\n",
        "#평균내기\n",
        "\n",
        "for a in range(0,10):\n",
        "  for b in range(0,len(number[a])): \n",
        "    average_z[a]=average_z[a]+sigmoid[number[a][b]]\n",
        "  average_z[a]=average_z[a]/len(number[a])  \n",
        "\n",
        "for i in range(0,10):\n",
        "  print(i,\": \",average_z[i])"
      ],
      "execution_count": null,
      "outputs": [
        {
          "output_type": "stream",
          "text": [
            "0 :  0.8315240937824244\n",
            "1 :  0.3549144128601424\n",
            "2 :  0.47656461688073987\n",
            "3 :  0.5854657898358218\n",
            "4 :  0.6467717608643223\n",
            "5 :  0.42425145876383524\n",
            "6 :  0.6622951820523498\n",
            "7 :  0.5442318033809139\n",
            "8 :  0.20474477939133062\n",
            "9 :  0.5481087022270352\n"
          ],
          "name": "stdout"
        }
      ]
    },
    {
      "cell_type": "code",
      "metadata": {
        "id": "po76lqVZiE8X",
        "colab": {
          "base_uri": "https://localhost:8080/",
          "height": 526
        },
        "outputId": "440fb124-a774-410b-d6e0-91cd00637c3a"
      },
      "source": [
        "print(\"\\033[1m\",\"\\033[31m\",\"***************정답//20184754 김현주***************\",\"\\033[0m\",\"\\n\")\n",
        "print(\"\\033[1m\",\"1. Plot the average image\",\"\\033[0m\")\n",
        "f1 = plt.figure(1)\n",
        "\n",
        "for i in range(0,10):\n",
        "  label       = i\n",
        "  im_vector   = average[:, i]\n",
        "  im_matrix   = im_vector.reshape((size_row, size_col))\n",
        "\n",
        "  plt.subplot(2, 5, i+1)\n",
        "  plt.title(label)\n",
        "  plt.imshow(im_matrix, cmap='Greys', interpolation='None')\n",
        "\n",
        "  frame   = plt.gca()\n",
        "  frame.axes.get_xaxis().set_visible(False)\n",
        "  frame.axes.get_yaxis().set_visible(False)\n",
        "plt.show()\n",
        "\n",
        "\n",
        "print(\"\\n\\n\",\"\\033[1m\",\"2. Present the output of the neural network with random weights \",\"\\033[0m\",\"\\n\")\n",
        "for i in range(0,10):\n",
        "  print(i,\": \",average_z[i])"
      ],
      "execution_count": null,
      "outputs": [
        {
          "output_type": "stream",
          "text": [
            "\u001b[1m \u001b[31m ***************정답//20184754 김현주*************** \u001b[0m \n",
            "\n",
            "\u001b[1m 1. Plot the average image \u001b[0m\n"
          ],
          "name": "stdout"
        },
        {
          "output_type": "display_data",
          "data": {
            "image/png": "[encoded data removed]",
            "text/plain": [
              "<Figure size 432x288 with 10 Axes>"
            ]
          },
          "metadata": {
            "tags": [],
            "needs_background": "light"
          }
        },
        {
          "output_type": "stream",
          "text": [
            "\n",
            "\n",
            " \u001b[1m 2. Present the output of the neural network with random weights  \u001b[0m \n",
            "\n",
            "0 :  0.8315240937824244\n",
            "1 :  0.3549144128601424\n",
            "2 :  0.47656461688073987\n",
            "3 :  0.5854657898358218\n",
            "4 :  0.6467717608643223\n",
            "5 :  0.42425145876383524\n",
            "6 :  0.6622951820523498\n",
            "7 :  0.5442318033809139\n",
            "8 :  0.20474477939133062\n",
            "9 :  0.5481087022270352\n"
          ],
          "name": "stdout"
        }
      ]
    }
  ]
}