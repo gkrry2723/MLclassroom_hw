{
  "nbformat": 4,
  "nbformat_minor": 0,
  "metadata": {
    "colab": {
      "name": "MLassginment07.ipynb",
      "provenance": [],
      "authorship_tag": "ABX9TyND/vjBbIb5ub14Vv+CPtcr",
      "include_colab_link": true
    },
    "kernelspec": {
      "name": "python3",
      "display_name": "Python 3"
    }
  },
  "cells": [
    {
      "cell_type": "markdown",
      "metadata": {
        "id": "view-in-github",
        "colab_type": "text"
      },
      "source": [
        "<a href=\"https://colab.research.google.com/github/gkrry2723/MLclassroom_hw/blob/main/MLassginment07.ipynb\" target=\"_parent\"><img src=\"https://colab.research.google.com/assets/colab-badge.svg\" alt=\"Open In Colab\"/></a>"
      ]
    },
    {
      "cell_type": "markdown",
      "metadata": {
        "id": "b5MT5uVaS89S"
      },
      "source": [
        "**Machine Learning assignment07 **\n",
        "\n",
        "**20184754 김현주 **\n",
        "\n",
        "Logistic regression for a binary classification with a regularization\n"
      ]
    },
    {
      "cell_type": "code",
      "metadata": {
        "id": "czcSQ9JJSTL8",
        "colab": {
          "base_uri": "https://localhost:8080/",
          "height": 127
        },
        "outputId": "30512599-9e4b-48cd-e6ab-ff1e6003c950"
      },
      "source": [
        "from google.colab import drive\n",
        "drive.mount(\"/gdrive\")\n"
      ],
      "execution_count": null,
      "outputs": [
        {
          "output_type": "stream",
          "text": [
            "Go to this URL in a browser: https://accounts.google.com/o/oauth2/auth?client_id=947318989803-6bn6qk8qdgf4n4g3pfee6491hc0brc4i.apps.googleusercontent.com&redirect_uri=urn%3aietf%3awg%3aoauth%3a2.0%3aoob&response_type=code&scope=email%20https%3a%2f%2fwww.googleapis.com%2fauth%2fdocs.test%20https%3a%2f%2fwww.googleapis.com%2fauth%2fdrive%20https%3a%2f%2fwww.googleapis.com%2fauth%2fdrive.photos.readonly%20https%3a%2f%2fwww.googleapis.com%2fauth%2fpeopleapi.readonly\n",
            "\n",
            "Enter your authorization code:\n",
            "··········\n",
            "Mounted at /gdrive\n"
          ],
          "name": "stdout"
        }
      ]
    },
    {
      "cell_type": "code",
      "metadata": {
        "id": "9kdUkxetTImr",
        "colab": {
          "base_uri": "https://localhost:8080/",
          "height": 501
        },
        "outputId": "7da47ebb-43b6-4fce-b94f-287fd05ae5a7"
      },
      "source": [
        "import numpy as np\n",
        "import matplotlib.pyplot as plt\n",
        "\n",
        "data    = np.genfromtxt(\"/gdrive/My Drive/ML_assignment/data-nonlinear.txt\", delimiter=',')\n",
        "\n",
        "m=len(data)\n",
        "\n",
        "x  = data[:, 0]\n",
        "y  = data[:, 1]\n",
        "label= data[:, 2]\n",
        "\n",
        "pointX0 = x[label == 0]\n",
        "pointY0 = y[label == 0]\n",
        "\n",
        "pointX1 = x[label == 1]\n",
        "pointY1 = y[label == 1]\n",
        "\n",
        "plt.figure(figsize=(8, 8))\n",
        "plt.scatter(pointX0, pointY0, c='b')\n",
        "plt.scatter(pointX1, pointY1, c='r')\n",
        "#plt.tight_layout()\n",
        "#plt.gca().set_aspect('equal', adjustable='box')\n",
        "plt.show()\n",
        "print(m)\n"
      ],
      "execution_count": null,
      "outputs": [
        {
          "output_type": "display_data",
          "data": {
            "image/png": "[encoded data removed]",
            "text/plain": [
              "<Figure size 576x576 with 1 Axes>"
            ]
          },
          "metadata": {
            "tags": [],
            "needs_background": "light"
          }
        },
        {
          "output_type": "stream",
          "text": [
            "118\n"
          ],
          "name": "stdout"
        }
      ]
    },
    {
      "cell_type": "markdown",
      "metadata": {
        "id": "oVwXm0yyS7L3"
      },
      "source": [
        "변수들 만들어주기\n",
        "1. 세타 2차원 array(100개)"
      ]
    },
    {
      "cell_type": "markdown",
      "metadata": {
        "id": "_A2GvWxmXR_g"
      },
      "source": [
        "J(θ)=m1​∑i=1m​[−l(i)log(σ(g(x(i),y(i);θ)))−(1−l(i))log(1−σ(g(x(i),y(i);θ)))]+2λ​∑i=09​∑j=09​θi,j2​\n",
        "\n",
        "J구하기"
      ]
    },
    {
      "cell_type": "code",
      "metadata": {
        "id": "_4jjVMTiWUJ9"
      },
      "source": [
        "import math\n",
        "\n",
        "J1=[]\n",
        "#J2=[]\n",
        "#J3=[]\n",
        "\n",
        "theta1=[]\n",
        "#theta2=[]\n",
        "#theta3=[]\n",
        "\n",
        "s1=[]\n",
        "#s2=[]\n",
        "#s3=[]\n",
        "\n",
        "step=[]\n",
        "accuracy1=[]\n",
        "\n",
        "p=0.5\n",
        "steps=0\n",
        "\n",
        "lambda1=0.00001\n",
        "#lambda2=10\n",
        "#lambda3=10\n",
        "\n",
        "for i in range (0,10):\n",
        "  thetaa=[0,0,0,0,0,0,0,0,0,0]\n",
        "  #thetab=[0,0,0,0,0,0,0,0,0,0]\n",
        "  #thetac=[0,0,0,0,0,0,0,0,0,0]\n",
        "  sa=[0,0,0,0,0,0,0,0,0,0]\n",
        "  #sb=[0,0,0,0,0,0,0,0,0,0]\n",
        "  #sc=[0,0,0,0,0,0,0,0,0,0]\n",
        "  theta1.append(thetaa);\n",
        "  #theta2.append(thetab);\n",
        "  #theta3.append(thetac);\n",
        "  s1.append(sa);\n",
        "  #s2.append(sb);\n",
        "  #s3.append(sc);\n",
        "\n",
        "for i in range(0,5000):\n",
        "  print(steps)\n",
        "  steps=steps+1\n",
        "  step.append(steps)\n",
        "\n",
        "  #합 값 초기화\n",
        "  Jsum1=0\n",
        "  #Jsum2=10\n",
        "  #Jsum3=100\n",
        "\n",
        "  for a in range(0,10):\n",
        "    for b in range(0,10):\n",
        "      s1[a][b]=0\n",
        "      #s2[a][b]=0\n",
        "      #s3[a][b]=0\n",
        "      \n",
        "\n",
        "  for j in range(0,m):\n",
        "    g1=0\n",
        "    #g2=0\n",
        "    #g3=0\n",
        "\n",
        "    for a in range(0,10):\n",
        "      for b in range(0,10):\n",
        "        temp1=(theta1[a][b])*(x[j]**a)*(y[j]**b)\n",
        "        #temp2=(theta2[a][b])*(x[j]**a)*(y[j]**b)\n",
        "        #temp3=(theta3[a][b])*(x[j]**a)*(y[j]**b)\n",
        "\n",
        "        g1=g1+temp1\n",
        "        #g2=g2+temp2\n",
        "        #g3=g3+temp3\n",
        "        \n",
        "\n",
        "    h1=1/(1+math.exp(-g1))\n",
        "    #h2=1/(1+math.exp(-g2))\n",
        "    #h3=1/(1+math.exp(-g3))\n",
        "\n",
        "    Jsum1=label[j]*math.log(h1)+(1-label[j])*math.log(1-h1) + Jsum1\n",
        "    #Jsum2=label[j]*math.log(h2)+(1-label[j])*math.log(1-h2) + Jsum2\n",
        "    #Jsum3=label[j]*math.log(h3)+(1-label[j])*math.log(1-h3) + Jsum3\n",
        "    \n",
        "    for a in range(0,10):\n",
        "      for b in range(0,10):\n",
        "        s1[a][b]=(h1-label[j])*(x[j]**a)*(y[j]**b)+s1[a][b]\n",
        "        #s2[a][b]=(h2-label[j])*(x[j]**a)*(y[j]**b)+s2[a][b]\n",
        "        #s3[a][b]=(h3-label[j])*(x[j]**a)*(y[j]**b)+s3[a][b]\n",
        "\n",
        "  thetasum1=0\n",
        "  #thetasum2=0\n",
        "  #thetasum3=0\n",
        "  for a in range(0,10):\n",
        "    for b in range(0,10):\n",
        "      theta1[a][b]=theta1[a][b]-p*((1/m)*s1[a][b]+lambda1*theta1[a][b])\n",
        "      #theta2[a][b]=theta2[a][b]-p*((1/m)*s2[a][b]+lambda2*theta2[a][b])\n",
        "      #theta3[a][b]=theta3[a][b]-p*((1/m)*s3[a][b]+lambda3*theta3[a][b])\n",
        "      \n",
        "      temp1=(theta1[a][b])**2\n",
        "      #temp2=(theta2[a][b])**2\n",
        "      #temp3=(theta3[a][b])**2\n",
        "\n",
        "      thetasum1=thetasum1+temp1\n",
        "      #thetasum2=thetasum2+temp2\n",
        "      #thetasum3=thetasum3+temp3\n",
        "  \n",
        "  Js1= -(Jsum1/m)+lambda1*thetasum1/2\n",
        "  #Js2= -(Jsum2/m)+lambda2*thetasum2/2\n",
        "  #Js3= -(Jsum3/m)+lambda3*thetasum3/2\n",
        "\n",
        "  J1.append(Js1)\n",
        "  #J2.append(Js2)\n",
        "  #J3.append(Js3)\n",
        "\n",
        "  plt.scatter(steps,Js1,c=\"red\",s=0.3)\n",
        "  #plt.scatter(steps,Js2,c=\"green\",s=0.3)\n",
        "  #plt.scatter(steps,Js3,c=\"blue\",s=0.3)\n",
        "\n",
        "  count =0\n",
        "  for i in range(0,m):\n",
        "    ad=0\n",
        "    for a in range(0,10):\n",
        "      for b in range(0,10):\n",
        "        ad= ad + theta1[a][b]*(x[i]**a)*(y[i]**b)\n",
        "\n",
        "    if ad>=0 and label[i]==1:\n",
        "      count=count+1\n",
        "    elif(ad<0) and (label[i]==0):\n",
        "      count=count+1\n",
        "\n",
        "  accuracys=count/m*100\n",
        "  accuracy1.append(accuracys)\n",
        "  print(accuracys)\n",
        "\n",
        "print(theta1)"
      ],
      "execution_count": null,
      "outputs": []
    },
    {
      "cell_type": "code",
      "metadata": {
        "id": "VGND5KSlaPR2"
      },
      "source": [
        "import math\n",
        "\n",
        "#J1=[]\n",
        "J2=[]\n",
        "#J3=[]\n",
        "\n",
        "#theta1=[]\n",
        "theta2=[]\n",
        "#theta3=[]\n",
        "\n",
        "#s1=[]\n",
        "s2=[]\n",
        "#s3=[]\n",
        "\n",
        "step=[]\n",
        "accuracy2=[]\n",
        "\n",
        "p=0.05\n",
        "steps=0\n",
        "\n",
        "#lambda1=0.0001\n",
        "lambda2=0.01\n",
        "#lambda3=100\n",
        "\n",
        "for i in range (0,10):\n",
        "  theta0=[0,0,0,0,0,0,0,0,0,0]\n",
        "  s0=[0,0,0,0,0,0,0,0,0,0]\n",
        "  #theta1.append(theta0);\n",
        "  theta2.append(theta0);\n",
        "  #theta3.append(theta0);\n",
        "  #s1.append(s0);\n",
        "  s2.append(s0);\n",
        "  #s3.append(s0);\n",
        "\n",
        "for i in range(0,5000):\n",
        "  steps=steps+1\n",
        "  step.append(steps)\n",
        "\n",
        "  #합 값 초기화\n",
        "  #Jsum1=0\n",
        "  Jsum2=0\n",
        "  #Jsum3=0\n",
        "\n",
        "  for a in range(0,10):\n",
        "    for b in range(0,10):\n",
        "      #s1[a][b]=0\n",
        "      s2[a][b]=0\n",
        "      #s3[a][b]=0\n",
        "      \n",
        "\n",
        "  for j in range(0,m):\n",
        "    #g1=0\n",
        "    g2=0\n",
        "    #g3=0\n",
        "\n",
        "    for a in range(0,10):\n",
        "      for b in range(0,10):\n",
        "        #temp1=(theta1[a][b])*(x[j]**a)*(y[j]**b)\n",
        "        temp2=(theta2[a][b])*(x[j]**a)*(y[j]**b)\n",
        "        #temp3=(theta3[a][b])*(x[j]**a)*(y[j]**b)\n",
        "\n",
        "        #g1=g1+temp1\n",
        "        g2=g2+temp2\n",
        "        #g3=g3+temp3\n",
        "        \n",
        "\n",
        "    #h1=1/(1+math.exp(-g1))\n",
        "    h2=1/(1+math.exp(-g2))\n",
        "    #h3=1/(1+math.exp(-g3))\n",
        "\n",
        "    #Jsum1=label[j]*math.log(h1)+(1-label[j])*math.log(1-h1) + Jsum1\n",
        "    Jsum2=label[j]*math.log(h2)+(1-label[j])*math.log(1-h2) + Jsum2\n",
        "    #Jsum3=label[j]*math.log(h3)+(1-label[j])*math.log(1-h3) + Jsum3\n",
        "    \n",
        "    for a in range(0,10):\n",
        "      for b in range(0,10):\n",
        "        #s1[a][b]=(h1-label[j])*(x[j]**a)*(y[j]**b)+s1[a][b]\n",
        "        s2[a][b]=(h2-label[j])*(x[j]**a)*(y[j]**b)+s2[a][b]\n",
        "        #s3[a][b]=(h3-label[j])*(x[j]**a)*(y[j]**b)+s3[a][b]\n",
        "\n",
        "  #thetasum1=0\n",
        "  thetasum2=0\n",
        "  #thetasum3=0\n",
        "  for a in range(0,10):\n",
        "    for b in range(0,10):\n",
        "      #theta1[a][b]=theta1[a][b]-p*((1/m)*s1[a][b]+lambda1*theta1[a][b])\n",
        "      theta2[a][b]=theta2[a][b]-p*((1/m)*s2[a][b]+lambda2*theta2[a][b])\n",
        "      #theta3[a][b]=theta3[a][b]-p*((1/m)*s3[a][b]+lambda3*theta3[a][b])\n",
        "      \n",
        "      #temp1=(theta1[a][b])**2\n",
        "      temp2=(theta2[a][b])**2\n",
        "      #temp3=(theta3[a][b])**2\n",
        "\n",
        "      #thetasum1=thetasum1+temp1\n",
        "      thetasum2=thetasum2+temp2\n",
        "      #thetasum3=thetasum3+temp3\n",
        "  \n",
        "  #Js1= -(Jsum1/m)+lambda1*thetasum1/2\n",
        "  Js2= -(Jsum2/m)+lambda2*thetasum2/2\n",
        "  #Js3= -(Jsum3/m)+lambda3*thetasum3/2\n",
        "\n",
        "  #J1.append(Js1)\n",
        "  J2.append(Js2)\n",
        "  #J3.append(Js3)\n",
        "\n",
        "  #plt.scatter(steps,Js1,c=\"red\",s=0.3)\n",
        "  plt.scatter(steps,Js2,c=\"green\",s=0.3)\n",
        "  #plt.scatter(steps,Js3,c=\"blue\",s=0.3)\n",
        "\n",
        "  count =0\n",
        "  for i in range(0,m):\n",
        "    ad=0\n",
        "    for a in range(0,10):\n",
        "      for b in range(0,10):\n",
        "        ad= ad + theta2[a][b]*(x[i]**a)*(y[i]**b)\n",
        "\n",
        "    if ad>=0 and label[i]==1:\n",
        "      count=count+1\n",
        "    elif(ad<0) and (label[i]==0):\n",
        "      count=count+1\n",
        "\n",
        "  accuracys=count/m*100\n",
        "  accuracy2.append(accuracys)\n",
        "\n",
        "print(theta2)"
      ],
      "execution_count": null,
      "outputs": []
    },
    {
      "cell_type": "code",
      "metadata": {
        "id": "q0JMy0jbu_tC",
        "colab": {
          "base_uri": "https://localhost:8080/",
          "height": 303
        },
        "outputId": "be2464b7-6aa4-4c24-dcd7-38cda5ccd2d2"
      },
      "source": [
        "import math\n",
        "\n",
        "#J1=[]\n",
        "#J2=[]\n",
        "J3=[]\n",
        "\n",
        "#theta1=[]\n",
        "#theta2=[]\n",
        "theta3=[]\n",
        "\n",
        "#s1=[]\n",
        "#s2=[]\n",
        "s3=[]\n",
        "\n",
        "step=[]\n",
        "accuracy3=[]\n",
        "\n",
        "p=0.05\n",
        "steps=0\n",
        "\n",
        "#lambda1=0\n",
        "#lambda2=1\n",
        "lambda3=1\n",
        "\n",
        "for i in range (0,10):\n",
        "  theta0=[0,0,0,0,0,0,0,0,0,0]\n",
        "  s0=[0,0,0,0,0,0,0,0,0,0]\n",
        "  #theta1.append(theta0);\n",
        "  #theta2.append(theta0);\n",
        "  theta3.append(theta0);\n",
        "  #s1.append(s0);\n",
        "  #s2.append(s0);\n",
        "  s3.append(s0);\n",
        "\n",
        "for i in range(0,5000):\n",
        "  steps=steps+1\n",
        "  step.append(steps)\n",
        "\n",
        "  #합 값 초기화\n",
        "  #Jsum1=0\n",
        "  #Jsum2=0\n",
        "  Jsum3=0\n",
        "\n",
        "  for a in range(0,10):\n",
        "    for b in range(0,10):\n",
        "      #s1[a][b]=0\n",
        "      #s2[a][b]=0\n",
        "      s3[a][b]=0\n",
        "      \n",
        "\n",
        "  for j in range(0,m):\n",
        "    #g1=0\n",
        "    #g2=0\n",
        "    g3=0\n",
        "\n",
        "    for a in range(0,10):\n",
        "      for b in range(0,10):\n",
        "        #temp1=(theta1[a][b])*(x[j]**a)*(y[j]**b)\n",
        "        #temp2=(theta2[a][b])*(x[j]**a)*(y[j]**b)\n",
        "        temp3=(theta3[a][b])*(x[j]**a)*(y[j]**b)\n",
        "\n",
        "        #g1=g1+temp1\n",
        "        #g2=g2+temp2\n",
        "        g3=g3+temp3\n",
        "        \n",
        "\n",
        "    #h1=1/(1+math.exp(-g1))\n",
        "    #h2=1/(1+math.exp(-g2))\n",
        "    h3=1/(1+math.exp(-g3))\n",
        "\n",
        "    #Jsum1=label[j]*math.log(h1)+(1-label[j])*math.log(1-h1) + Jsum1\n",
        "    #Jsum2=label[j]*math.log(h2)+(1-label[j])*math.log(1-h2) + Jsum2\n",
        "    Jsum3=label[j]*math.log(h3)+(1-label[j])*math.log(1-h3) + Jsum3\n",
        "    \n",
        "    for a in range(0,10):\n",
        "      for b in range(0,10):\n",
        "        #s1[a][b]=(h1-label[j])*(x[j]**a)*(y[j]**b)+s1[a][b]\n",
        "        #s2[a][b]=(h2-label[j])*(x[j]**a)*(y[j]**b)+s2[a][b]\n",
        "        s3[a][b]=(h3-label[j])*(x[j]**a)*(y[j]**b)+s3[a][b]\n",
        "\n",
        "  #thetasum1=0\n",
        "  #thetasum2=0\n",
        "  thetasum3=0\n",
        "  for a in range(0,10):\n",
        "    for b in range(0,10):\n",
        "      #theta1[a][b]=theta1[a][b]-p*((1/m)*s1[a][b]+lambda1*theta1[a][b])\n",
        "      #theta2[a][b]=theta2[a][b]-p*((1/m)*s2[a][b]+lambda2*theta2[a][b])\n",
        "      theta3[a][b]=theta3[a][b]-p*((1/m)*s3[a][b]+lambda3*theta3[a][b])\n",
        "      \n",
        "      #temp1=(theta1[a][b])**2\n",
        "      #temp2=(theta2[a][b])**2\n",
        "      temp3=(theta3[a][b])**2\n",
        "\n",
        "      #thetasum1=thetasum1+temp1\n",
        "      #thetasum2=thetasum2+temp2\n",
        "      thetasum3=thetasum3+temp3\n",
        "  \n",
        "  #Js1= -(Jsum1/m)+lambda1*thetasum1/2\n",
        "  #Js2= -(Jsum2/m)+lambda2*thetasum2/2\n",
        "  Js3= -(Jsum3/m)+lambda3*thetasum3/2\n",
        "\n",
        "  #J1.append(Js1)\n",
        "  #J2.append(Js2)\n",
        "  J3.append(Js3)\n",
        "\n",
        "  #plt.scatter(steps,Js1,c=\"red\",s=0.3)\n",
        "  #plt.scatter(steps,Js2,c=\"green\",s=0.3)\n",
        "  plt.scatter(steps,Js3,c=\"blue\",s=0.3)\n",
        "\n",
        "  count =0\n",
        "  for i in range(0,m):\n",
        "    ad=0\n",
        "    for a in range(0,10):\n",
        "      for b in range(0,10):\n",
        "        ad= ad + theta3[a][b]*(x[i]**a)*(y[i]**b)\n",
        "\n",
        "    if ad>=0 and label[i]==1:\n",
        "      count=count+1\n",
        "    elif(ad<0) and (label[i]==0):\n",
        "      count=count+1\n",
        "\n",
        "  accuracys=count/m*100\n",
        "  accuracy3.append(accuracys)\n",
        "print(theta3)"
      ],
      "execution_count": null,
      "outputs": [
        {
          "output_type": "stream",
          "text": [
            "[[0.004696063661346381, 0.006687605122142087, -0.03043273160928011, -0.017464037887297446, -0.03311177119128717, -0.0251773894058415, -0.03279559771027195, -0.028602925278321492, -0.032915815400927084, -0.031076245065907705], [-0.014613097433946082, -0.011272493826739803, -0.007595895303287421, -0.0030430908519001347, -0.004293879032657136, -0.0013602488935060514, -0.0023776972635026284, -0.0007273237865114041, -0.001378087435661046, -0.00048192401370567375], [-0.04570543961134717, -0.006372304049248585, -0.011769703993244306, -0.005216864385948332, -0.006611835713593677, -0.00408662875413782, -0.004556288183006674, -0.003361252387520065, -0.00354923402962146, -0.0029347825003387734], [-0.01526133061388409, -0.0020088092253943077, -0.0030334209827742337, -0.00034355682457567224, -0.0012588089538921902, -0.00011156433359146072, -0.000512380580416611, 1.0411461835119565e-05, -0.00017838971428590374, 7.33107343260443e-05], [-0.036189215254116364, -0.003936382570896256, -0.005887182531424107, -0.0020437626060141496, -0.002540410557421105, -0.001336074965124029, -0.0014536974436526854, -0.0009569928937527895, -0.0009790905314524122, -0.0007419443539583568], [-0.017388500286667656, -0.0008953563464412615, -0.002101477143293417, -0.00019128282865321536, -0.0007605692837098321, -0.00012661189741837567, -0.0003136904324337864, -6.340723242601983e-05, -0.00013029021893404963, -1.9133873412694506e-05], [-0.028445642217258475, -0.002488700015431807, -0.0033360786123509713, -0.0008872363427852479, -0.0011759994573656194, -0.0005135626365276517, -0.000575829802426253, -0.00033394206909605857, -0.00034134738136398096, -0.00023660121767760296], [-0.017617131128824348, -0.000735989120913356, -0.0015227195488837757, -0.00012188835932631237, -0.00048523352141824805, -9.549985802902357e-05, -0.00019769044473441362, -6.112470610190345e-05, -9.060002925611032e-05, -3.534101636429527e-05], [-0.02351609196977101, -0.0018288015760140998, -0.0020839587238496568, -0.0004348704736100115, -0.0006225943554897702, -0.0002254373490424797, -0.0002664970697702645, -0.00013524986562455396, -0.0001400902808435094, -8.834404265051769e-05], [-0.017232260552969517, -0.0008137921327150707, -0.0011294054388606579, -8.269036089858788e-05, -0.00031500188419329093, -6.059233542929039e-05, -0.00012113692843071847, -3.989001994706768e-05, -5.496150229473202e-05, -2.4805145473592676e-05]]\n"
          ],
          "name": "stdout"
        },
        {
          "output_type": "display_data",
          "data": {
            "image/png": "[encoded data removed]",
            "text/plain": [
              "<Figure size 432x288 with 1 Axes>"
            ]
          },
          "metadata": {
            "tags": [],
            "needs_background": "light"
          }
        }
      ]
    },
    {
      "cell_type": "code",
      "metadata": {
        "id": "TUxBiJEfxTxU",
        "colab": {
          "base_uri": "https://localhost:8080/",
          "height": 283
        },
        "outputId": "54f8d666-a3b5-45cf-d1b0-06761ae27133"
      },
      "source": [
        "  plt.scatter(step,J1,c=\"red\",s=0.3)\n",
        "  plt.scatter(step,J2,c=\"green\",s=0.3)\n",
        "  plt.scatter(step,J3,c=\"blue\",s=0.3)\n",
        "\n",
        "  "
      ],
      "execution_count": null,
      "outputs": [
        {
          "output_type": "execute_result",
          "data": {
            "text/plain": [
              "<matplotlib.collections.PathCollection at 0x7fccef1f4be0>"
            ]
          },
          "metadata": {
            "tags": []
          },
          "execution_count": 14
        },
        {
          "output_type": "display_data",
          "data": {
            "image/png": "[encoded data removed]",
            "text/plain": [
              "<Figure size 432x288 with 1 Axes>"
            ]
          },
          "metadata": {
            "tags": [],
            "needs_background": "light"
          }
        }
      ]
    },
    {
      "cell_type": "code",
      "metadata": {
        "id": "CvEmT893qbQd",
        "colab": {
          "base_uri": "https://localhost:8080/",
          "height": 319
        },
        "outputId": "2418db07-115b-4760-dcff-e85fa641a534"
      },
      "source": [
        "plt.scatter(step,accuracy1,c='red',s=0.3)\n",
        "plt.scatter(step,accuracy2,c='green',s=0.3)\n",
        "plt.scatter(step,accuracy3,c='blue',s=0.3)\n",
        "\n",
        "print(accuracy1[-1])\n",
        "print(accuracy2[-1])\n",
        "print(accuracy3[-1])"
      ],
      "execution_count": null,
      "outputs": [
        {
          "output_type": "stream",
          "text": [
            "84.7457627118644\n",
            "83.05084745762711\n",
            "61.86440677966102\n"
          ],
          "name": "stdout"
        },
        {
          "output_type": "display_data",
          "data": {
            "image/png": "[encoded data removed]",
            "text/plain": [
              "<Figure size 432x288 with 1 Axes>"
            ]
          },
          "metadata": {
            "tags": [],
            "needs_background": "light"
          }
        }
      ]
    },
    {
      "cell_type": "code",
      "metadata": {
        "id": "2eOg2OjXmhQA"
      },
      "source": [
        "plt.scatter(pointX0, pointY0, c='b')\n",
        "plt.scatter(pointX1, pointY1, c='r')\n",
        "\n",
        "\n",
        "count=0\n",
        "\n",
        "xx = np.linspace(-1.0, 1.0, 100)\n",
        "yy = np.linspace(-1.0, 1.0, 100)\n",
        "X, Y = np.meshgrid(xx,yy)\n",
        "F1=0\n",
        "F2=0\n",
        "F3=0\n",
        "for a in range(0,10):\n",
        "    for b in range(0,10):\n",
        "      F1=F1+theta1[a][b]*(X**a)*(Y**b)\n",
        "      F2=F2+theta2[a][b]*(X**a)*(Y**b)\n",
        "      F3=F3+theta3[a][b]*(X**a)*(Y**b)\n",
        "\n",
        "plt.contour(X,Y,F1,[0],cmap=plt.cm.autumn)\n",
        "plt.contour(X,Y,F2,[0],cmap=plt.cm.summer)\n",
        "plt.contour(X,Y,F3,[0],cmap=plt.cm.winter)\n",
        "\n",
        "plt.show()"
      ],
      "execution_count": null,
      "outputs": []
    },
    {
      "cell_type": "markdown",
      "metadata": {
        "id": "_6O1Qj9p3gQL"
      },
      "source": [
        "** 답 시작!! **\n",
        "\n",
        "1. Plot the training data\n",
        "- plot the training data points (x,y) with their labels lll in colors (blue for label 0 and red for label 1)"
      ]
    },
    {
      "cell_type": "code",
      "metadata": {
        "id": "IyjR0N_t31Mf",
        "colab": {
          "base_uri": "https://localhost:8080/",
          "height": 1443
        },
        "outputId": "f673eec9-cc93-488c-88cc-44a4cda0ae5f"
      },
      "source": [
        "print(\"\\033[1m\",\"\\033[31m\",\"***************정답 1 page***************\",\"\\033[0m\")\n",
        "\n",
        "plt.figure(1)\n",
        "\n",
        "\n",
        "print(\"\\033[1m\",\"1. Plot the training data\",\"\\033[0m\")\n",
        "\n",
        "plt.scatter(pointX0, pointY0, c='b',label='label 0')\n",
        "plt.scatter(pointX1, pointY1, c='r',label='label 1')\n",
        "\n",
        "plt.xlabel('x')\n",
        "plt.ylabel('y')\n",
        "\n",
        "plt.legend(loc='upper right')\n",
        "plt.show()\n",
        "\n",
        "plt.figure(2)\n",
        "print(\"\")\n",
        "print(\"\\033[1m\",\"2. Plot the training error with varying regularization parameters\",\"\\033[0m\")\n",
        "\n",
        "plt.plot(step,J1,c='red',label='J1:over-fitting')\n",
        "plt.plot(step,J2,c='green',label='J2:just-right')\n",
        "plt.plot(step,J3,c='blue',label='J3:under-fitting')\n",
        "\n",
        "plt.xlabel('step')\n",
        "plt.ylabel('training error')\n",
        "plt.legend(loc='center right')\n",
        "plt.show()\n",
        "\n",
        "print(\"\")\n",
        "print(\"\\033[1m\",\"3. Display the values of the chosen regularization parameters\",\"\\033[0m\")\n",
        "print(\"\\033[31m\",\"lambda 1 for over fitting : \", lambda1)\n",
        "print(\"\\033[32m\",\"lambda 2 for just right : \", lambda2)\n",
        "print(\"\\033[34m\",\"lambda 3 for under fitting : \", lambda3,\"\\033[0m\")\n",
        "\n",
        "plt.figure(3)\n",
        "\n",
        "print(\"\")\n",
        "print(\"\\033[1m\",\"4. Plot the training accuracy with varying regularization parameters\",\"\\033[0m\")\n",
        "\n",
        "plt.plot(step,accuracy1,c='red',label='accuracy1:over-fitting')\n",
        "plt.plot(step,accuracy2,c='green',label='accuracy2:just-right')\n",
        "plt.plot(step,accuracy3,c='blue',label='accuracy3:under-1fitting')\n",
        "\n",
        "plt.xlabel('step')\n",
        "plt.ylabel('accuracy')\n",
        "plt.legend(loc='center right')\n",
        "plt.show()\n",
        "print(\"\")\n",
        "print(\"\")\n",
        "print(\"\")\n",
        "print(\"\")\n",
        "print(\"\\033[1m\",\"5. Display the final training accuracy with varying regularization parameters\",\"\\033[0m\")\n",
        "print(\"\\033[31m\",\"accuracy1 with lambda 1 for over fitting : \", accuracy1[-1])\n",
        "print(\"\\033[32m\",\"accuracy2 with lambda 2 for just right : \", accuracy2[-1])\n",
        "print(\"\\033[34m\",\"accuracy3 with lambda 3 for under fitting : \", accuracy3[-1],\"\\033[0m\")\n",
        "\n",
        "plt.figure(3)\n",
        "\n",
        "print(\"\")\n",
        "print(\"\\033[1m\",\"6. Plot the optimal classifier with varying regularization parameters superimposed on the training data\",\"\\033[0m\")\n",
        "\n",
        "plt.scatter(pointX0, pointY0, c='b',label='label 0')\n",
        "plt.scatter(pointX1, pointY1, c='r',label='label 1')\n",
        "\n",
        "cs1=plt.contour(X,Y,F1,[0],cmap=plt.cm.autumn)\n",
        "cs2=plt.contour(X,Y,F2,[0],cmap=plt.cm.summer)\n",
        "cs3=plt.contour(X,Y,F3,[0],cmap=plt.cm.winter)\n",
        "\n",
        "if plt.rcParams[\"text.usetex\"]:\n",
        "    fmt1 = r'lambda1'\n",
        "else:\n",
        "    fmt1 = 'lambda1'\n",
        "if plt.rcParams[\"text.usetex\"]:\n",
        "    fmt2 = r'lambda2'\n",
        "else:\n",
        "    fmt2 = 'lambda2'\n",
        "if plt.rcParams[\"text.usetex\"]:\n",
        "    fmt3 = r'lambda3'\n",
        "else:\n",
        "    fmt3 = 'lambda3'\n",
        "\n",
        "plt.clabel(cs1,inline=1,fmt=fmt1,fontsize=10)\n",
        "plt.clabel(cs2,inline=1,fmt=fmt2,fontsize=10)\n",
        "plt.clabel(cs3,inline=1,fmt=fmt3,fontsize=10)\n",
        "\n",
        "plt.xlabel('step')\n",
        "plt.ylabel('accuracy')\n",
        "plt.legend(loc='upper right')\n",
        "plt.show()\n"
      ],
      "execution_count": null,
      "outputs": [
        {
          "output_type": "stream",
          "text": [
            "\u001b[1m \u001b[31m ***************정답 1 page*************** \u001b[0m\n",
            "\u001b[1m 1. Plot the training data \u001b[0m\n"
          ],
          "name": "stdout"
        },
        {
          "output_type": "display_data",
          "data": {
            "image/png": "[encoded data removed]",
            "text/plain": [
              "<Figure size 432x288 with 1 Axes>"
            ]
          },
          "metadata": {
            "tags": [],
            "needs_background": "light"
          }
        },
        {
          "output_type": "stream",
          "text": [
            "\n",
            "\u001b[1m 2. Plot the training error with varying regularization parameters \u001b[0m\n"
          ],
          "name": "stdout"
        },
        {
          "output_type": "display_data",
          "data": {
            "image/png": "[encoded data removed]",
            "text/plain": [
              "<Figure size 432x288 with 1 Axes>"
            ]
          },
          "metadata": {
            "tags": [],
            "needs_background": "light"
          }
        },
        {
          "output_type": "stream",
          "text": [
            "\n",
            "\u001b[1m 3. Display the values of the chosen regularization parameters \u001b[0m\n",
            "\u001b[31m lambda 1 for over fitting :  1e-05\n",
            "\u001b[32m lambda 2 for just right :  0.01\n",
            "\u001b[34m lambda 3 for under fitting :  1 \u001b[0m\n",
            "\n",
            "\u001b[1m 4. Plot the training accuracy with varying regularization parameters \u001b[0m\n"
          ],
          "name": "stdout"
        },
        {
          "output_type": "display_data",
          "data": {
            "image/png": "[encoded data removed]",
            "text/plain": [
              "<Figure size 432x288 with 1 Axes>"
            ]
          },
          "metadata": {
            "tags": [],
            "needs_background": "light"
          }
        },
        {
          "output_type": "stream",
          "text": [
            "\n",
            "\n",
            "\n",
            "\n",
            "\u001b[1m 5. Display the final training accuracy with varying regularization parameters \u001b[0m\n",
            "\u001b[31m accuracy1 with lambda 1 for over fitting :  84.7457627118644\n",
            "\u001b[32m accuracy2 with lambda 2 for just right :  83.05084745762711\n",
            "\u001b[34m accuracy3 with lambda 3 for under fitting :  61.86440677966102 \u001b[0m\n",
            "\n",
            "\u001b[1m 6. Plot the optimal classifier with varying regularization parameters superimposed on the training data \u001b[0m\n"
          ],
          "name": "stdout"
        },
        {
          "output_type": "display_data",
          "data": {
            "image/png": "[encoded data removed]",
            "text/plain": [
              "<Figure size 432x288 with 1 Axes>"
            ]
          },
          "metadata": {
            "tags": [],
            "needs_background": "light"
          }
        }
      ]
    }
  ]
}